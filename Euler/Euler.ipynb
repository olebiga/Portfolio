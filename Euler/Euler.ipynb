{
 "cells": [
  {
   "cell_type": "code",
   "execution_count": 3,
   "id": "7a72255d",
   "metadata": {},
   "outputs": [],
   "source": [
    "import numpy as np"
   ]
  },
  {
   "cell_type": "code",
   "execution_count": 43,
   "id": "d1604840",
   "metadata": {},
   "outputs": [
    {
     "data": {
      "text/plain": [
       "233168"
      ]
     },
     "execution_count": 43,
     "metadata": {},
     "output_type": "execute_result"
    }
   ],
   "source": [
    "#If we list all the natural numbers below 10 that are multiples of 3 or 5, we get 3, 5, 6 and 9. \n",
    "#The sum of these multiples is 23.\n",
    "#Find the sum of all the multiples of 3 or 5 below 1000.\n",
    "\n",
    "x=np.arange(1,1000)\n",
    "sum=np.sum(x[(x%3==0) | (x%5==0)])\n",
    "sum"
   ]
  },
  {
   "cell_type": "code",
   "execution_count": 45,
   "id": "c9c79d29",
   "metadata": {},
   "outputs": [
    {
     "data": {
      "text/plain": [
       "4613732"
      ]
     },
     "execution_count": 45,
     "metadata": {},
     "output_type": "execute_result"
    }
   ],
   "source": [
    "#By considering the terms in the Fibonacci sequence whose values do not exceed four million,\n",
    "#find the sum of the even-valued terms.\n",
    "\n",
    "sum=0\n",
    "fib=2\n",
    "prev=1\n",
    "while fib<4*10**6:\n",
    "    if fib%2==0:\n",
    "        sum=sum+fib\n",
    "    fib=fib+prev\n",
    "    prev=fib-prev\n",
    "sum "
   ]
  },
  {
   "cell_type": "code",
   "execution_count": 36,
   "id": "86252e8d",
   "metadata": {},
   "outputs": [
    {
     "data": {
      "text/plain": [
       "[71, 839, 1471, 6857]"
      ]
     },
     "execution_count": 36,
     "metadata": {},
     "output_type": "execute_result"
    }
   ],
   "source": [
    "#What is the largest prime factor of the number 600851475143 ?\n",
    "num=600851475143\n",
    "def find_factors(num):\n",
    "    pf=2\n",
    "    factors=[]\n",
    "    while num>1:\n",
    "        while num%pf==0:\n",
    "            factors.append(pf)\n",
    "            num=num/pf\n",
    "        pf=pf+1      \n",
    "    return(factors)\n",
    "find_factors(num)"
   ]
  },
  {
   "cell_type": "code",
   "execution_count": 88,
   "id": "897c0e74",
   "metadata": {},
   "outputs": [
    {
     "data": {
      "text/plain": [
       "906609"
      ]
     },
     "execution_count": 88,
     "metadata": {},
     "output_type": "execute_result"
    }
   ],
   "source": [
    "#Find the largest palindrome made from the product of two 3-digit numbers.\n",
    "pal=[]\n",
    "for a in range(999,100,-1):\n",
    "    for b in range(999,a,-1):\n",
    "        s=str(a*b)\n",
    "        if s==s[::-1]:\n",
    "            pal.append(a*b)\n",
    "\n",
    "max(pal)"
   ]
  },
  {
   "cell_type": "code",
   "execution_count": 37,
   "id": "a35b277f",
   "metadata": {},
   "outputs": [
    {
     "name": "stdout",
     "output_type": "stream",
     "text": [
      "232792560\n"
     ]
    }
   ],
   "source": [
    "#What is the smallest positive number that is evenly divisible by all of the numbers from 1 to 20?\n",
    "\n",
    "res=[]\n",
    "for i in range(2,20):\n",
    "    res.append(find_factors(i))\n",
    "power=0\n",
    "minnum=1\n",
    "for m in range(2,max(res)[0]+1):\n",
    "    for i in range(0,len(res)):\n",
    "        if res[i].count(m)>power:\n",
    "            power=res[i].count(m)\n",
    "    minnum=minnum*m**power\n",
    "    power=0\n",
    "    \n",
    "print(minnum) "
   ]
  },
  {
   "cell_type": "code",
   "execution_count": 131,
   "id": "3931d38e",
   "metadata": {},
   "outputs": [
    {
     "data": {
      "text/plain": [
       "25164150"
      ]
     },
     "execution_count": 131,
     "metadata": {},
     "output_type": "execute_result"
    }
   ],
   "source": [
    "#Find the difference between the sum of the squares of the first one hundred natural numbers and\n",
    "#the square of the sum.\n",
    "nat_num=np.arange(1,101)\n",
    "sum_sq=np.sum(nat_num**2)\n",
    "sq_sum=np.sum(nat_num)**2\n",
    "sq_sum-sum_sq"
   ]
  },
  {
   "cell_type": "code",
   "execution_count": 145,
   "id": "8982085c",
   "metadata": {},
   "outputs": [
    {
     "data": {
      "text/plain": [
       "104743"
      ]
     },
     "execution_count": 145,
     "metadata": {},
     "output_type": "execute_result"
    }
   ],
   "source": [
    "#What is the 10 001st prime number?\n",
    "\n",
    "def list_primes (cnt):\n",
    "    pr_l=[2]\n",
    "    i=3\n",
    "    while len(pr_l)<cnt:\n",
    "        check=0\n",
    "        for j in pr_l:\n",
    "            if i%j==0:\n",
    "                check=1\n",
    "        if check==0:\n",
    "            pr_l.append(i)\n",
    "        i+=2\n",
    "    return pr_l\n",
    "max(list_primes(10001))"
   ]
  },
  {
   "cell_type": "code",
   "execution_count": 35,
   "id": "a6644351",
   "metadata": {},
   "outputs": [
    {
     "name": "stdout",
     "output_type": "stream",
     "text": [
      "a = 375 , b = 200 , c = 425 , abc = 31875000\n"
     ]
    }
   ],
   "source": [
    "#There exists exactly one Pythagorean triplet (a2 + b2 = c2) for which a + b + c = 1000.\n",
    "#Find the product abc.\n",
    "#Any Pythagorean triplet could be given as pair of integers n and m as (m2-n2; 2nm; n2+m2),\n",
    "#so I can reduce it to search n,m thats 2m(m+n)=1000\n",
    "a=0\n",
    "b=0\n",
    "c=0\n",
    "des_sum=1000\n",
    "top_m=round(np.sqrt(des_sum/2))\n",
    "bot_m=round(np.sqrt(des_sum/4))\n",
    "for m in range(top_m,bot_m,-1):\n",
    "    for n in range(1,m):\n",
    "        if 2*m*(n+m)==des_sum:\n",
    "            a=m**2-n**2\n",
    "            b=2*n*m\n",
    "            c=m**2+n**2\n",
    "if a==0:\n",
    "    print ('No such numbers')\n",
    "else:\n",
    "    print('a =',a,', b =',b, ', c =', c, ', abc =', a*b*c)\n",
    "        "
   ]
  },
  {
   "cell_type": "code",
   "execution_count": null,
   "id": "bf51100a",
   "metadata": {},
   "outputs": [],
   "source": []
  },
  {
   "cell_type": "code",
   "execution_count": null,
   "id": "d8487f13",
   "metadata": {},
   "outputs": [],
   "source": []
  },
  {
   "cell_type": "code",
   "execution_count": null,
   "id": "c60a3568",
   "metadata": {},
   "outputs": [],
   "source": []
  },
  {
   "cell_type": "code",
   "execution_count": null,
   "id": "39c11e78",
   "metadata": {},
   "outputs": [],
   "source": []
  },
  {
   "cell_type": "code",
   "execution_count": null,
   "id": "5264954d",
   "metadata": {},
   "outputs": [],
   "source": []
  },
  {
   "cell_type": "code",
   "execution_count": null,
   "id": "a90b9954",
   "metadata": {},
   "outputs": [],
   "source": []
  }
 ],
 "metadata": {
  "kernelspec": {
   "display_name": "Python 3 (ipykernel)",
   "language": "python",
   "name": "python3"
  },
  "language_info": {
   "codemirror_mode": {
    "name": "ipython",
    "version": 3
   },
   "file_extension": ".py",
   "mimetype": "text/x-python",
   "name": "python",
   "nbconvert_exporter": "python",
   "pygments_lexer": "ipython3",
   "version": "3.8.10"
  }
 },
 "nbformat": 4,
 "nbformat_minor": 5
}
